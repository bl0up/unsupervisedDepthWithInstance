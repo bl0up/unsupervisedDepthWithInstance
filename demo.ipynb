{
 "metadata": {
  "language_info": {
   "codemirror_mode": {
    "name": "ipython",
    "version": 3
   },
   "file_extension": ".py",
   "mimetype": "text/x-python",
   "name": "python",
   "nbconvert_exporter": "python",
   "pygments_lexer": "ipython3",
   "version": "3.6.6"
  },
  "orig_nbformat": 2,
  "kernelspec": {
   "name": "python366jvsc74a57bd0cf9cdf24733843999b7ebdd1654fd3d2afcba261c08c085efb6e71de5afacbee",
   "display_name": "Python 3.6.6 64-bit ('mtan': conda)"
  },
  "metadata": {
   "interpreter": {
    "hash": "cf9cdf24733843999b7ebdd1654fd3d2afcba261c08c085efb6e71de5afacbee"
   }
  }
 },
 "nbformat": 4,
 "nbformat_minor": 2,
 "cells": [
  {
   "cell_type": "code",
   "execution_count": 2,
   "metadata": {},
   "outputs": [],
   "source": [
    "from __future__ import absolute_import, division, print_function\n",
    "\n",
    "import os \n",
    "import cv2\n",
    "import numpy as np\n",
    "\n",
    "import torch \n",
    "from torch.utils.data import DataLoader\n",
    "\n",
    "from layers import disp_to_depth\n",
    "from utils import readlines\n",
    "from options import ModelOptions\n",
    "import datasets\n",
    "import networks\n",
    "import matplotlib.pyplot as plt\n",
    "from scipy import stats as scpystats\n",
    "\n",
    "%matplotlib inline \n"
   ]
  },
  {
   "cell_type": "code",
   "execution_count": 4,
   "metadata": {},
   "outputs": [],
   "source": [
    "model_name = 'all_tasks_dwa_cs'\n",
    "weights_path = 'weights/' + model_name\n",
    "tasks = ['pose', 'depth', 'instance']"
   ]
  },
  {
   "cell_type": "code",
   "execution_count": 9,
   "metadata": {},
   "outputs": [],
   "source": [
    "output_root = 'results/'\n",
    "output_dir = output_root + model_name\n",
    "if not os.path.exists(output_dir):\n",
    "    os.makedirs(output_dir)\n",
    "    "
   ]
  },
  {
   "cell_type": "code",
   "execution_count": 16,
   "metadata": {},
   "outputs": [],
   "source": [
    "data_path = 'data/'\n",
    "images = os.listdir(data_path)\n"
   ]
  },
  {
   "cell_type": "code",
   "execution_count": 18,
   "metadata": {},
   "outputs": [
    {
     "output_type": "error",
     "ename": "RuntimeError",
     "evalue": "Attempting to deserialize object on a CUDA device but torch.cuda.is_available() is False. If you are running on a CPU-only machine, please use torch.load with map_location='cpu' to map your storages to the CPU.",
     "traceback": [
      "\u001b[0;31m---------------------------------------------------------------------------\u001b[0m",
      "\u001b[0;31mRuntimeError\u001b[0m                              Traceback (most recent call last)",
      "\u001b[0;32m<ipython-input-18-05282880f3bb>\u001b[0m in \u001b[0;36m<module>\u001b[0;34m\u001b[0m\n\u001b[1;32m     36\u001b[0m             ins_att_enc.append(networks.AttentionEncoder(attention_channels_enc[i] + attention_channels_enc[i - 1],\n\u001b[1;32m     37\u001b[0m                                                             attention_channels_enc[i], do_pool=False))\n\u001b[0;32m---> 38\u001b[0;31m         \u001b[0mins_att_enc\u001b[0m\u001b[0;34m[\u001b[0m\u001b[0mi\u001b[0m\u001b[0;34m]\u001b[0m\u001b[0;34m.\u001b[0m\u001b[0mload_state_dict\u001b[0m\u001b[0;34m(\u001b[0m\u001b[0mtorch\u001b[0m\u001b[0;34m.\u001b[0m\u001b[0mload\u001b[0m\u001b[0;34m(\u001b[0m\u001b[0mins_att_enc_path\u001b[0m\u001b[0;34m[\u001b[0m\u001b[0mi\u001b[0m\u001b[0;34m]\u001b[0m\u001b[0;34m)\u001b[0m\u001b[0;34m)\u001b[0m\u001b[0;34m\u001b[0m\u001b[0m\n\u001b[0m\u001b[1;32m     39\u001b[0m         \u001b[0mdepth_att_enc\u001b[0m\u001b[0;34m[\u001b[0m\u001b[0mi\u001b[0m\u001b[0;34m]\u001b[0m\u001b[0;34m.\u001b[0m\u001b[0mload_state_dict\u001b[0m\u001b[0;34m(\u001b[0m\u001b[0mtorch\u001b[0m\u001b[0;34m.\u001b[0m\u001b[0mload\u001b[0m\u001b[0;34m(\u001b[0m\u001b[0mdepth_att_enc_path\u001b[0m\u001b[0;34m[\u001b[0m\u001b[0mi\u001b[0m\u001b[0;34m]\u001b[0m\u001b[0;34m)\u001b[0m\u001b[0;34m)\u001b[0m\u001b[0;34m\u001b[0m\u001b[0m\n\u001b[1;32m     40\u001b[0m \u001b[0;34m\u001b[0m\u001b[0m\n",
      "\u001b[0;32m~/opt/miniconda3/envs/mtan/lib/python3.6/site-packages/torch/serialization.py\u001b[0m in \u001b[0;36mload\u001b[0;34m(f, map_location, pickle_module)\u001b[0m\n\u001b[1;32m    356\u001b[0m         \u001b[0mf\u001b[0m \u001b[0;34m=\u001b[0m \u001b[0mopen\u001b[0m\u001b[0;34m(\u001b[0m\u001b[0mf\u001b[0m\u001b[0;34m,\u001b[0m \u001b[0;34m'rb'\u001b[0m\u001b[0;34m)\u001b[0m\u001b[0;34m\u001b[0m\u001b[0m\n\u001b[1;32m    357\u001b[0m     \u001b[0;32mtry\u001b[0m\u001b[0;34m:\u001b[0m\u001b[0;34m\u001b[0m\u001b[0m\n\u001b[0;32m--> 358\u001b[0;31m         \u001b[0;32mreturn\u001b[0m \u001b[0m_load\u001b[0m\u001b[0;34m(\u001b[0m\u001b[0mf\u001b[0m\u001b[0;34m,\u001b[0m \u001b[0mmap_location\u001b[0m\u001b[0;34m,\u001b[0m \u001b[0mpickle_module\u001b[0m\u001b[0;34m)\u001b[0m\u001b[0;34m\u001b[0m\u001b[0m\n\u001b[0m\u001b[1;32m    359\u001b[0m     \u001b[0;32mfinally\u001b[0m\u001b[0;34m:\u001b[0m\u001b[0;34m\u001b[0m\u001b[0m\n\u001b[1;32m    360\u001b[0m         \u001b[0;32mif\u001b[0m \u001b[0mnew_fd\u001b[0m\u001b[0;34m:\u001b[0m\u001b[0;34m\u001b[0m\u001b[0m\n",
      "\u001b[0;32m~/opt/miniconda3/envs/mtan/lib/python3.6/site-packages/torch/serialization.py\u001b[0m in \u001b[0;36m_load\u001b[0;34m(f, map_location, pickle_module)\u001b[0m\n\u001b[1;32m    540\u001b[0m     \u001b[0munpickler\u001b[0m \u001b[0;34m=\u001b[0m \u001b[0mpickle_module\u001b[0m\u001b[0;34m.\u001b[0m\u001b[0mUnpickler\u001b[0m\u001b[0;34m(\u001b[0m\u001b[0mf\u001b[0m\u001b[0;34m)\u001b[0m\u001b[0;34m\u001b[0m\u001b[0m\n\u001b[1;32m    541\u001b[0m     \u001b[0munpickler\u001b[0m\u001b[0;34m.\u001b[0m\u001b[0mpersistent_load\u001b[0m \u001b[0;34m=\u001b[0m \u001b[0mpersistent_load\u001b[0m\u001b[0;34m\u001b[0m\u001b[0m\n\u001b[0;32m--> 542\u001b[0;31m     \u001b[0mresult\u001b[0m \u001b[0;34m=\u001b[0m \u001b[0munpickler\u001b[0m\u001b[0;34m.\u001b[0m\u001b[0mload\u001b[0m\u001b[0;34m(\u001b[0m\u001b[0;34m)\u001b[0m\u001b[0;34m\u001b[0m\u001b[0m\n\u001b[0m\u001b[1;32m    543\u001b[0m \u001b[0;34m\u001b[0m\u001b[0m\n\u001b[1;32m    544\u001b[0m     \u001b[0mdeserialized_storage_keys\u001b[0m \u001b[0;34m=\u001b[0m \u001b[0mpickle_module\u001b[0m\u001b[0;34m.\u001b[0m\u001b[0mload\u001b[0m\u001b[0;34m(\u001b[0m\u001b[0mf\u001b[0m\u001b[0;34m)\u001b[0m\u001b[0;34m\u001b[0m\u001b[0m\n",
      "\u001b[0;32m~/opt/miniconda3/envs/mtan/lib/python3.6/site-packages/torch/serialization.py\u001b[0m in \u001b[0;36mpersistent_load\u001b[0;34m(saved_id)\u001b[0m\n\u001b[1;32m    506\u001b[0m             \u001b[0;32mif\u001b[0m \u001b[0mroot_key\u001b[0m \u001b[0;32mnot\u001b[0m \u001b[0;32min\u001b[0m \u001b[0mdeserialized_objects\u001b[0m\u001b[0;34m:\u001b[0m\u001b[0;34m\u001b[0m\u001b[0m\n\u001b[1;32m    507\u001b[0m                 deserialized_objects[root_key] = restore_location(\n\u001b[0;32m--> 508\u001b[0;31m                     data_type(size), location)\n\u001b[0m\u001b[1;32m    509\u001b[0m             \u001b[0mstorage\u001b[0m \u001b[0;34m=\u001b[0m \u001b[0mdeserialized_objects\u001b[0m\u001b[0;34m[\u001b[0m\u001b[0mroot_key\u001b[0m\u001b[0;34m]\u001b[0m\u001b[0;34m\u001b[0m\u001b[0m\n\u001b[1;32m    510\u001b[0m             \u001b[0;32mif\u001b[0m \u001b[0mview_metadata\u001b[0m \u001b[0;32mis\u001b[0m \u001b[0;32mnot\u001b[0m \u001b[0;32mNone\u001b[0m\u001b[0;34m:\u001b[0m\u001b[0;34m\u001b[0m\u001b[0m\n",
      "\u001b[0;32m~/opt/miniconda3/envs/mtan/lib/python3.6/site-packages/torch/serialization.py\u001b[0m in \u001b[0;36mdefault_restore_location\u001b[0;34m(storage, location)\u001b[0m\n\u001b[1;32m    102\u001b[0m \u001b[0;32mdef\u001b[0m \u001b[0mdefault_restore_location\u001b[0m\u001b[0;34m(\u001b[0m\u001b[0mstorage\u001b[0m\u001b[0;34m,\u001b[0m \u001b[0mlocation\u001b[0m\u001b[0;34m)\u001b[0m\u001b[0;34m:\u001b[0m\u001b[0;34m\u001b[0m\u001b[0m\n\u001b[1;32m    103\u001b[0m     \u001b[0;32mfor\u001b[0m \u001b[0m_\u001b[0m\u001b[0;34m,\u001b[0m \u001b[0m_\u001b[0m\u001b[0;34m,\u001b[0m \u001b[0mfn\u001b[0m \u001b[0;32min\u001b[0m \u001b[0m_package_registry\u001b[0m\u001b[0;34m:\u001b[0m\u001b[0;34m\u001b[0m\u001b[0m\n\u001b[0;32m--> 104\u001b[0;31m         \u001b[0mresult\u001b[0m \u001b[0;34m=\u001b[0m \u001b[0mfn\u001b[0m\u001b[0;34m(\u001b[0m\u001b[0mstorage\u001b[0m\u001b[0;34m,\u001b[0m \u001b[0mlocation\u001b[0m\u001b[0;34m)\u001b[0m\u001b[0;34m\u001b[0m\u001b[0m\n\u001b[0m\u001b[1;32m    105\u001b[0m         \u001b[0;32mif\u001b[0m \u001b[0mresult\u001b[0m \u001b[0;32mis\u001b[0m \u001b[0;32mnot\u001b[0m \u001b[0;32mNone\u001b[0m\u001b[0;34m:\u001b[0m\u001b[0;34m\u001b[0m\u001b[0m\n\u001b[1;32m    106\u001b[0m             \u001b[0;32mreturn\u001b[0m \u001b[0mresult\u001b[0m\u001b[0;34m\u001b[0m\u001b[0m\n",
      "\u001b[0;32m~/opt/miniconda3/envs/mtan/lib/python3.6/site-packages/torch/serialization.py\u001b[0m in \u001b[0;36m_cuda_deserialize\u001b[0;34m(obj, location)\u001b[0m\n\u001b[1;32m     73\u001b[0m \u001b[0;34m\u001b[0m\u001b[0m\n\u001b[1;32m     74\u001b[0m         \u001b[0;32mif\u001b[0m \u001b[0;32mnot\u001b[0m \u001b[0mtorch\u001b[0m\u001b[0;34m.\u001b[0m\u001b[0mcuda\u001b[0m\u001b[0;34m.\u001b[0m\u001b[0mis_available\u001b[0m\u001b[0;34m(\u001b[0m\u001b[0;34m)\u001b[0m\u001b[0;34m:\u001b[0m\u001b[0;34m\u001b[0m\u001b[0m\n\u001b[0;32m---> 75\u001b[0;31m             raise RuntimeError('Attempting to deserialize object on a CUDA '\n\u001b[0m\u001b[1;32m     76\u001b[0m                                \u001b[0;34m'device but torch.cuda.is_available() is False. '\u001b[0m\u001b[0;34m\u001b[0m\u001b[0m\n\u001b[1;32m     77\u001b[0m                                \u001b[0;34m'If you are running on a CPU-only machine, '\u001b[0m\u001b[0;34m\u001b[0m\u001b[0m\n",
      "\u001b[0;31mRuntimeError\u001b[0m: Attempting to deserialize object on a CUDA device but torch.cuda.is_available() is False. If you are running on a CPU-only machine, please use torch.load with map_location='cpu' to map your storages to the CPU."
     ]
    }
   ],
   "source": [
    "encoder_path = os.path.join(weights_path, 'encoder.pth')\n",
    "decoder_path = os.path.join(weights_path, 'decoder.pth')\n",
    "\n",
    "depth_att_enc_path = []\n",
    "depth_att_dec_path = []\n",
    "depth_att_enc = []\n",
    "depth_att_dec = []\n",
    "\n",
    "ins_att_enc_path = []\n",
    "ins_att_dec_path = []\n",
    "ins_att_enc = []\n",
    "ins_att_dec = []\n",
    "\n",
    "if torch.cuda.is_available():\n",
    "    device = torch.device(\"cuda\")\n",
    "else:\n",
    "    device = torch.device(\"cpu\")\n",
    "\n",
    "attention_channels_enc = np.array([64, 128, 256, 512])\n",
    "attention_channels_dec = np.array([16, 32, 64, 128, 256,512])\n",
    "\n",
    "\n",
    "for i in range(5):\n",
    "    if i < 4:\n",
    "        depth_att_enc_path.append(os.path.join(weights_path, '(\\'depth_att_enc\\', ' + str(i) + ').pth'))\n",
    "        ins_att_enc_path.append(os.path.join(weights_path, '(\\'instance_att_enc\\', ' + str(i) + ').pth'))\n",
    "        if i == 0:\n",
    "            depth_att_enc.append(networks.AttentionEncoder(attention_channels_enc[i],\n",
    "                                                            attention_channels_enc[i], do_pool=True))\n",
    "            ins_att_enc.append(networks.AttentionEncoder(attention_channels_enc[i],\n",
    "                                                            attention_channels_enc[i], do_pool=True))\n",
    "        else:\n",
    "            depth_att_enc.append(\n",
    "                networks.AttentionEncoder(attention_channels_enc[i] + attention_channels_enc[i - 1],\n",
    "                                            attention_channels_enc[i], do_pool=False))\n",
    "            ins_att_enc.append(networks.AttentionEncoder(attention_channels_enc[i] + attention_channels_enc[i - 1],\n",
    "                                                            attention_channels_enc[i], do_pool=False))\n",
    "        ins_att_enc[i].load_state_dict(torch.load(ins_att_enc_path[i]))\n",
    "        depth_att_enc[i].load_state_dict(torch.load(depth_att_enc_path[i]))\n",
    "\n",
    "    depth_att_dec_path.append(os.path.join(weights_path, '(\\'depth_att_dec\\', ' + str(i) + ').pth'))\n",
    "    ins_att_dec_path.append(os.path.join(weights_path, '(\\'instance_att_dec\\', ' + str(i) + ').pth'))\n",
    "    if i < 2:\n",
    "        depth_att_dec.append(\n",
    "            networks.AttentionDecoder(attention_channels_dec[-i - 1], attention_channels_dec[-i - 2],\n",
    "                                        do_upsample=False))\n",
    "        ins_att_dec.append(networks.AttentionDecoder(attention_channels_dec[-i - 1], attention_channels_dec[-i - 2],\n",
    "                                                        do_upsample=False))\n",
    "    else:\n",
    "        depth_att_dec.append(\n",
    "            networks.AttentionDecoder(attention_channels_dec[-i - 1], attention_channels_dec[-i - 2],\n",
    "                                        do_upsample=True))\n",
    "        ins_att_dec.append(networks.AttentionDecoder(attention_channels_dec[-i - 1], attention_channels_dec[-i - 2],\n",
    "                                                        do_upsample=True))\n",
    "    depth_att_dec[i].load_state_dict(torch.load(depth_att_dec_path[i]))\n",
    "    ins_att_dec[i].load_state_dict(torch.load(ins_att_dec_path[i]))\n",
    "\n",
    "    att_disp_3_path = os.path.join(weights_path, '(\\'att_disp\\', 0).pth')\n",
    "    att_disp_3 = networks.AttentionDispDecoder(0)\n",
    "    att_disp_3.load_state_dict(torch.load(att_disp_3_path))\n",
    "\n",
    "att_ins_0_path = os.path.join(weights_path, '(\\'att_ins\\', 0).pth')\n",
    "att_ins_0 = networks.AttentionInsDecoder(0, num_output_channels=2)\n",
    "att_ins_0.load_state_dict(torch.load(att_ins_0_path))\n",
    "\n",
    "encoder_dict = torch.load(encoder_path, map_location=device)\n",
    "\n",
    "encoder = networks.ResnetEncoderMtan(18, False)\n",
    "decoder = networks.SharedDecoder(encoder.num_ch_enc, num_output_channels=2)\n",
    "\n",
    "model_dict = encoder.state_dict()\n",
    "encoder.load_state_dict({k: v for k,v in encoder_dict.items() if k in model_dict})\n",
    "decoder.load_state_dict(torch.load(decoder_path))\n",
    "\n",
    "#encoder.cuda()\n",
    "encoder.eval()\n",
    "#decoder.cuda()\n",
    "decoder.eval()\n",
    "\n"
   ]
  },
  {
   "cell_type": "code",
   "execution_count": null,
   "metadata": {},
   "outputs": [],
   "source": []
  }
 ]
}